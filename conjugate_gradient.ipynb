{
 "cells": [
  {
   "cell_type": "code",
   "execution_count": 35,
   "metadata": {},
   "outputs": [],
   "source": [
    "from sympy import *\n",
    "def gradconj(f, x0, tolerance):\n",
    "    v = list(f.free_symbols)\n",
    "    x = x0\n",
    "    grad = Matrix([f]).jacobian(v).T\n",
    "    hess = hessian(f, v).T\n",
    "    grad_f = lambda xi: grad.subs(tuple(zip(v, xi)))\n",
    "    hess_f = lambda xi: hess.subs(tuple(zip(v, xi)))\n",
    "    d = - grad_f(x)\n",
    "    while d.norm() >= tolerance:\n",
    "    #for i in range(0, 99):\n",
    "        a = d.T.dot(d) / (d.T*hess_f(x)).dot(d)\n",
    "        a = 0 if a == nan else a\n",
    "        x = x + a*d\n",
    "        b = (grad_f(x).T * hess_f(x)).dot(d)/(d.T*hess_f(x)).dot(d)\n",
    "        b = 0 if b == nan else b\n",
    "        d = -grad_f(x) + b*d\n",
    "    return x"
   ]
  },
  {
   "cell_type": "code",
   "execution_count": 36,
   "metadata": {},
   "outputs": [
    {
     "data": {
      "text/latex": [
       "$\\displaystyle \\left[\\begin{matrix}- \\frac{1}{3}\\end{matrix}\\right]$"
      ],
      "text/plain": [
       "Matrix([[-1/3]])"
      ]
     },
     "execution_count": 36,
     "metadata": {},
     "output_type": "execute_result"
    }
   ],
   "source": [
    "x1 = symbols('x1')\n",
    "x0 = Matrix([[1]])\n",
    "f = 3*x1**2 + 2*x1  + 2\n",
    "gradconj(f, x0, 1e-6)"
   ]
  },
  {
   "cell_type": "code",
   "execution_count": null,
   "metadata": {},
   "outputs": [],
   "source": []
  }
 ],
 "metadata": {
  "interpreter": {
   "hash": "e47b1a34c05c1e3b83a62d7885c9d1b5ef8a0522d3be0182d0a008ec409b2b3d"
  },
  "kernelspec": {
   "display_name": "Python 3.9.7 ('myenv')",
   "language": "python",
   "name": "python3"
  },
  "language_info": {
   "codemirror_mode": {
    "name": "ipython",
    "version": 3
   },
   "file_extension": ".py",
   "mimetype": "text/x-python",
   "name": "python",
   "nbconvert_exporter": "python",
   "pygments_lexer": "ipython3",
   "version": "3.9.7"
  },
  "orig_nbformat": 4
 },
 "nbformat": 4,
 "nbformat_minor": 2
}
